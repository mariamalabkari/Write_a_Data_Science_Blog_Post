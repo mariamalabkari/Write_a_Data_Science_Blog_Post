{
 "cells": [
  {
   "cell_type": "markdown",
   "id": "8852d39c",
   "metadata": {},
   "source": [
    "# <center> Project 1: Write A Data Science Blog Post </center>\n",
    "## StackOverFlow Developer Survey Dataset "
   ]
  },
  {
   "cell_type": "markdown",
   "id": "549dd0c7",
   "metadata": {},
   "source": [
    "### CRISP-DM Stages:\n",
    "The CRISP-DM approach will be used, to maintain track of the analytic process\n",
    "\n",
    "<ol>\n",
    "    <li>Business Understanding</li>\n",
    "    <li>Data Understanding</li>\n",
    "    <li>Prepare Data</li>\n",
    "    <li>Data Modeling</li>\n",
    "    <li>Evaluate the Result</li>\n",
    "</ol>"
   ]
  },
  {
   "cell_type": "markdown",
   "id": "4d038f92",
   "metadata": {},
   "source": [
    "### Business Understanding"
   ]
  },
  {
   "cell_type": "markdown",
   "id": "0ff3fd69",
   "metadata": {},
   "source": [
    "In order to understand more about professional developers, I'll answer some questions using the 2017 StackOverFlow dataset.\n",
    "\n",
    "Questions:\n",
    "<ol>\n",
    "    <li>Which countries utilized Stackoverflow the most?</li>\n",
    "    <li>Stackoverflow is most used by which education level?</li>\n",
    "    <li>People from which education level make more salary</li>\n",
    "    <li>How many people agree and disagree on make money from StackOverFlow?</li>\n",
    "    <li>Which country use stackoverflow more for money?</li> \n",
    "</ol>"
   ]
  },
  {
   "cell_type": "markdown",
   "id": "057755e3",
   "metadata": {},
   "source": [
    "####  Import packages"
   ]
  },
  {
   "cell_type": "code",
   "execution_count": 2,
   "id": "f66d6d4e",
   "metadata": {},
   "outputs": [],
   "source": [
    "import pandas as pd\n",
    "import numpy as np\n",
    "import random\n",
    "import matplotlib.pyplot as plt\n",
    "%matplotlib inline\n",
    "random.seed(42)"
   ]
  },
  {
   "cell_type": "markdown",
   "id": "afabe99b",
   "metadata": {},
   "source": [
    "### Data Understanding"
   ]
  },
  {
   "cell_type": "markdown",
   "id": "431db38a",
   "metadata": {},
   "source": [
    "#### Read the dataset "
   ]
  },
  {
   "cell_type": "code",
   "execution_count": 3,
   "id": "5b1bb44b",
   "metadata": {},
   "outputs": [
    {
     "data": {
      "text/html": [
       "<div>\n",
       "<style scoped>\n",
       "    .dataframe tbody tr th:only-of-type {\n",
       "        vertical-align: middle;\n",
       "    }\n",
       "\n",
       "    .dataframe tbody tr th {\n",
       "        vertical-align: top;\n",
       "    }\n",
       "\n",
       "    .dataframe thead th {\n",
       "        text-align: right;\n",
       "    }\n",
       "</style>\n",
       "<table border=\"1\" class=\"dataframe\">\n",
       "  <thead>\n",
       "    <tr style=\"text-align: right;\">\n",
       "      <th></th>\n",
       "      <th>Respondent</th>\n",
       "      <th>Professional</th>\n",
       "      <th>ProgramHobby</th>\n",
       "      <th>Country</th>\n",
       "      <th>University</th>\n",
       "      <th>EmploymentStatus</th>\n",
       "      <th>FormalEducation</th>\n",
       "      <th>MajorUndergrad</th>\n",
       "      <th>HomeRemote</th>\n",
       "      <th>CompanySize</th>\n",
       "      <th>...</th>\n",
       "      <th>StackOverflowMakeMoney</th>\n",
       "      <th>Gender</th>\n",
       "      <th>HighestEducationParents</th>\n",
       "      <th>Race</th>\n",
       "      <th>SurveyLong</th>\n",
       "      <th>QuestionsInteresting</th>\n",
       "      <th>QuestionsConfusing</th>\n",
       "      <th>InterestedAnswers</th>\n",
       "      <th>Salary</th>\n",
       "      <th>ExpectedSalary</th>\n",
       "    </tr>\n",
       "  </thead>\n",
       "  <tbody>\n",
       "    <tr>\n",
       "      <th>0</th>\n",
       "      <td>1</td>\n",
       "      <td>Student</td>\n",
       "      <td>Yes, both</td>\n",
       "      <td>United States</td>\n",
       "      <td>No</td>\n",
       "      <td>Not employed, and not looking for work</td>\n",
       "      <td>Secondary school</td>\n",
       "      <td>NaN</td>\n",
       "      <td>NaN</td>\n",
       "      <td>NaN</td>\n",
       "      <td>...</td>\n",
       "      <td>Strongly disagree</td>\n",
       "      <td>Male</td>\n",
       "      <td>High school</td>\n",
       "      <td>White or of European descent</td>\n",
       "      <td>Strongly disagree</td>\n",
       "      <td>Strongly agree</td>\n",
       "      <td>Disagree</td>\n",
       "      <td>Strongly agree</td>\n",
       "      <td>NaN</td>\n",
       "      <td>NaN</td>\n",
       "    </tr>\n",
       "    <tr>\n",
       "      <th>1</th>\n",
       "      <td>2</td>\n",
       "      <td>Student</td>\n",
       "      <td>Yes, both</td>\n",
       "      <td>United Kingdom</td>\n",
       "      <td>Yes, full-time</td>\n",
       "      <td>Employed part-time</td>\n",
       "      <td>Some college/university study without earning ...</td>\n",
       "      <td>Computer science or software engineering</td>\n",
       "      <td>More than half, but not all, the time</td>\n",
       "      <td>20 to 99 employees</td>\n",
       "      <td>...</td>\n",
       "      <td>Strongly disagree</td>\n",
       "      <td>Male</td>\n",
       "      <td>A master's degree</td>\n",
       "      <td>White or of European descent</td>\n",
       "      <td>Somewhat agree</td>\n",
       "      <td>Somewhat agree</td>\n",
       "      <td>Disagree</td>\n",
       "      <td>Strongly agree</td>\n",
       "      <td>NaN</td>\n",
       "      <td>37500.0</td>\n",
       "    </tr>\n",
       "    <tr>\n",
       "      <th>2</th>\n",
       "      <td>3</td>\n",
       "      <td>Professional developer</td>\n",
       "      <td>Yes, both</td>\n",
       "      <td>United Kingdom</td>\n",
       "      <td>No</td>\n",
       "      <td>Employed full-time</td>\n",
       "      <td>Bachelor's degree</td>\n",
       "      <td>Computer science or software engineering</td>\n",
       "      <td>Less than half the time, but at least one day ...</td>\n",
       "      <td>10,000 or more employees</td>\n",
       "      <td>...</td>\n",
       "      <td>Disagree</td>\n",
       "      <td>Male</td>\n",
       "      <td>A professional degree</td>\n",
       "      <td>White or of European descent</td>\n",
       "      <td>Somewhat agree</td>\n",
       "      <td>Agree</td>\n",
       "      <td>Disagree</td>\n",
       "      <td>Agree</td>\n",
       "      <td>113750.0</td>\n",
       "      <td>NaN</td>\n",
       "    </tr>\n",
       "    <tr>\n",
       "      <th>3</th>\n",
       "      <td>4</td>\n",
       "      <td>Professional non-developer who sometimes write...</td>\n",
       "      <td>Yes, both</td>\n",
       "      <td>United States</td>\n",
       "      <td>No</td>\n",
       "      <td>Employed full-time</td>\n",
       "      <td>Doctoral degree</td>\n",
       "      <td>A non-computer-focused engineering discipline</td>\n",
       "      <td>Less than half the time, but at least one day ...</td>\n",
       "      <td>10,000 or more employees</td>\n",
       "      <td>...</td>\n",
       "      <td>Disagree</td>\n",
       "      <td>Male</td>\n",
       "      <td>A doctoral degree</td>\n",
       "      <td>White or of European descent</td>\n",
       "      <td>Agree</td>\n",
       "      <td>Agree</td>\n",
       "      <td>Somewhat agree</td>\n",
       "      <td>Strongly agree</td>\n",
       "      <td>NaN</td>\n",
       "      <td>NaN</td>\n",
       "    </tr>\n",
       "    <tr>\n",
       "      <th>4</th>\n",
       "      <td>5</td>\n",
       "      <td>Professional developer</td>\n",
       "      <td>Yes, I program as a hobby</td>\n",
       "      <td>Switzerland</td>\n",
       "      <td>No</td>\n",
       "      <td>Employed full-time</td>\n",
       "      <td>Master's degree</td>\n",
       "      <td>Computer science or software engineering</td>\n",
       "      <td>Never</td>\n",
       "      <td>10 to 19 employees</td>\n",
       "      <td>...</td>\n",
       "      <td>NaN</td>\n",
       "      <td>NaN</td>\n",
       "      <td>NaN</td>\n",
       "      <td>NaN</td>\n",
       "      <td>NaN</td>\n",
       "      <td>NaN</td>\n",
       "      <td>NaN</td>\n",
       "      <td>NaN</td>\n",
       "      <td>NaN</td>\n",
       "      <td>NaN</td>\n",
       "    </tr>\n",
       "  </tbody>\n",
       "</table>\n",
       "<p>5 rows × 154 columns</p>\n",
       "</div>"
      ],
      "text/plain": [
       "   Respondent                                       Professional  \\\n",
       "0           1                                            Student   \n",
       "1           2                                            Student   \n",
       "2           3                             Professional developer   \n",
       "3           4  Professional non-developer who sometimes write...   \n",
       "4           5                             Professional developer   \n",
       "\n",
       "                ProgramHobby         Country      University  \\\n",
       "0                  Yes, both   United States              No   \n",
       "1                  Yes, both  United Kingdom  Yes, full-time   \n",
       "2                  Yes, both  United Kingdom              No   \n",
       "3                  Yes, both   United States              No   \n",
       "4  Yes, I program as a hobby     Switzerland              No   \n",
       "\n",
       "                         EmploymentStatus  \\\n",
       "0  Not employed, and not looking for work   \n",
       "1                      Employed part-time   \n",
       "2                      Employed full-time   \n",
       "3                      Employed full-time   \n",
       "4                      Employed full-time   \n",
       "\n",
       "                                     FormalEducation  \\\n",
       "0                                   Secondary school   \n",
       "1  Some college/university study without earning ...   \n",
       "2                                  Bachelor's degree   \n",
       "3                                    Doctoral degree   \n",
       "4                                    Master's degree   \n",
       "\n",
       "                                  MajorUndergrad  \\\n",
       "0                                            NaN   \n",
       "1       Computer science or software engineering   \n",
       "2       Computer science or software engineering   \n",
       "3  A non-computer-focused engineering discipline   \n",
       "4       Computer science or software engineering   \n",
       "\n",
       "                                          HomeRemote  \\\n",
       "0                                                NaN   \n",
       "1              More than half, but not all, the time   \n",
       "2  Less than half the time, but at least one day ...   \n",
       "3  Less than half the time, but at least one day ...   \n",
       "4                                              Never   \n",
       "\n",
       "                CompanySize  ... StackOverflowMakeMoney Gender  \\\n",
       "0                       NaN  ...      Strongly disagree   Male   \n",
       "1        20 to 99 employees  ...      Strongly disagree   Male   \n",
       "2  10,000 or more employees  ...               Disagree   Male   \n",
       "3  10,000 or more employees  ...               Disagree   Male   \n",
       "4        10 to 19 employees  ...                    NaN    NaN   \n",
       "\n",
       "  HighestEducationParents                          Race         SurveyLong  \\\n",
       "0             High school  White or of European descent  Strongly disagree   \n",
       "1       A master's degree  White or of European descent     Somewhat agree   \n",
       "2   A professional degree  White or of European descent     Somewhat agree   \n",
       "3       A doctoral degree  White or of European descent              Agree   \n",
       "4                     NaN                           NaN                NaN   \n",
       "\n",
       "  QuestionsInteresting QuestionsConfusing InterestedAnswers    Salary  \\\n",
       "0       Strongly agree           Disagree    Strongly agree       NaN   \n",
       "1       Somewhat agree           Disagree    Strongly agree       NaN   \n",
       "2                Agree           Disagree             Agree  113750.0   \n",
       "3                Agree     Somewhat agree    Strongly agree       NaN   \n",
       "4                  NaN                NaN               NaN       NaN   \n",
       "\n",
       "   ExpectedSalary  \n",
       "0             NaN  \n",
       "1         37500.0  \n",
       "2             NaN  \n",
       "3             NaN  \n",
       "4             NaN  \n",
       "\n",
       "[5 rows x 154 columns]"
      ]
     },
     "execution_count": 3,
     "metadata": {},
     "output_type": "execute_result"
    }
   ],
   "source": [
    "# load the dataset \n",
    "df = pd.read_csv('survey_results_public.csv')\n",
    "# print first 5 rows\n",
    "df.head()"
   ]
  },
  {
   "cell_type": "code",
   "execution_count": 4,
   "id": "50bcec33",
   "metadata": {},
   "outputs": [
    {
     "data": {
      "text/html": [
       "<div>\n",
       "<style scoped>\n",
       "    .dataframe tbody tr th:only-of-type {\n",
       "        vertical-align: middle;\n",
       "    }\n",
       "\n",
       "    .dataframe tbody tr th {\n",
       "        vertical-align: top;\n",
       "    }\n",
       "\n",
       "    .dataframe thead th {\n",
       "        text-align: right;\n",
       "    }\n",
       "</style>\n",
       "<table border=\"1\" class=\"dataframe\">\n",
       "  <thead>\n",
       "    <tr style=\"text-align: right;\">\n",
       "      <th></th>\n",
       "      <th>Column</th>\n",
       "      <th>Question</th>\n",
       "    </tr>\n",
       "  </thead>\n",
       "  <tbody>\n",
       "    <tr>\n",
       "      <th>0</th>\n",
       "      <td>Respondent</td>\n",
       "      <td>Respondent ID number</td>\n",
       "    </tr>\n",
       "    <tr>\n",
       "      <th>1</th>\n",
       "      <td>Professional</td>\n",
       "      <td>Which of the following best describes you?</td>\n",
       "    </tr>\n",
       "    <tr>\n",
       "      <th>2</th>\n",
       "      <td>ProgramHobby</td>\n",
       "      <td>Do you program as a hobby or contribute to ope...</td>\n",
       "    </tr>\n",
       "    <tr>\n",
       "      <th>3</th>\n",
       "      <td>Country</td>\n",
       "      <td>In which country do you currently live?</td>\n",
       "    </tr>\n",
       "    <tr>\n",
       "      <th>4</th>\n",
       "      <td>University</td>\n",
       "      <td>Are you currently enrolled in a formal, degree...</td>\n",
       "    </tr>\n",
       "  </tbody>\n",
       "</table>\n",
       "</div>"
      ],
      "text/plain": [
       "         Column                                           Question\n",
       "0    Respondent                               Respondent ID number\n",
       "1  Professional         Which of the following best describes you?\n",
       "2  ProgramHobby  Do you program as a hobby or contribute to ope...\n",
       "3       Country            In which country do you currently live?\n",
       "4    University  Are you currently enrolled in a formal, degree..."
      ]
     },
     "execution_count": 4,
     "metadata": {},
     "output_type": "execute_result"
    }
   ],
   "source": [
    "# load the dataset \n",
    "df_2 = pd.read_csv('survey_results_schema.csv')\n",
    "# print first 5 rows\n",
    "df_2.head()"
   ]
  },
  {
   "cell_type": "code",
   "execution_count": 5,
   "id": "7a887768",
   "metadata": {},
   "outputs": [
    {
     "data": {
      "text/plain": [
       "(51392, 154)"
      ]
     },
     "execution_count": 5,
     "metadata": {},
     "output_type": "execute_result"
    }
   ],
   "source": [
    "df.shape"
   ]
  },
  {
   "cell_type": "code",
   "execution_count": 6,
   "id": "20f5ebd5",
   "metadata": {},
   "outputs": [
    {
     "data": {
      "text/plain": [
       "Index(['Respondent', 'Professional', 'ProgramHobby', 'Country', 'University',\n",
       "       'EmploymentStatus', 'FormalEducation', 'MajorUndergrad', 'HomeRemote',\n",
       "       'CompanySize',\n",
       "       ...\n",
       "       'StackOverflowMakeMoney', 'Gender', 'HighestEducationParents', 'Race',\n",
       "       'SurveyLong', 'QuestionsInteresting', 'QuestionsConfusing',\n",
       "       'InterestedAnswers', 'Salary', 'ExpectedSalary'],\n",
       "      dtype='object', length=154)"
      ]
     },
     "execution_count": 6,
     "metadata": {},
     "output_type": "execute_result"
    }
   ],
   "source": [
    "# print names of columns\n",
    "df.columns"
   ]
  },
  {
   "cell_type": "code",
   "execution_count": 7,
   "id": "24588e57",
   "metadata": {},
   "outputs": [
    {
     "data": {
      "text/html": [
       "<div>\n",
       "<style scoped>\n",
       "    .dataframe tbody tr th:only-of-type {\n",
       "        vertical-align: middle;\n",
       "    }\n",
       "\n",
       "    .dataframe tbody tr th {\n",
       "        vertical-align: top;\n",
       "    }\n",
       "\n",
       "    .dataframe thead th {\n",
       "        text-align: right;\n",
       "    }\n",
       "</style>\n",
       "<table border=\"1\" class=\"dataframe\">\n",
       "  <thead>\n",
       "    <tr style=\"text-align: right;\">\n",
       "      <th></th>\n",
       "      <th>Respondent</th>\n",
       "      <th>CareerSatisfaction</th>\n",
       "      <th>JobSatisfaction</th>\n",
       "      <th>HoursPerWeek</th>\n",
       "      <th>StackOverflowSatisfaction</th>\n",
       "      <th>Salary</th>\n",
       "      <th>ExpectedSalary</th>\n",
       "    </tr>\n",
       "  </thead>\n",
       "  <tbody>\n",
       "    <tr>\n",
       "      <th>count</th>\n",
       "      <td>51392.000000</td>\n",
       "      <td>42695.000000</td>\n",
       "      <td>40376.000000</td>\n",
       "      <td>20600.000000</td>\n",
       "      <td>36592.000000</td>\n",
       "      <td>12891.000000</td>\n",
       "      <td>2566.000000</td>\n",
       "    </tr>\n",
       "    <tr>\n",
       "      <th>mean</th>\n",
       "      <td>25696.500000</td>\n",
       "      <td>7.300574</td>\n",
       "      <td>6.957078</td>\n",
       "      <td>3.952282</td>\n",
       "      <td>8.429875</td>\n",
       "      <td>56298.480641</td>\n",
       "      <td>33142.220468</td>\n",
       "    </tr>\n",
       "    <tr>\n",
       "      <th>std</th>\n",
       "      <td>14835.736854</td>\n",
       "      <td>1.955444</td>\n",
       "      <td>2.167652</td>\n",
       "      <td>7.564722</td>\n",
       "      <td>1.390635</td>\n",
       "      <td>39880.905277</td>\n",
       "      <td>30162.988829</td>\n",
       "    </tr>\n",
       "    <tr>\n",
       "      <th>min</th>\n",
       "      <td>1.000000</td>\n",
       "      <td>0.000000</td>\n",
       "      <td>0.000000</td>\n",
       "      <td>0.000000</td>\n",
       "      <td>0.000000</td>\n",
       "      <td>0.000000</td>\n",
       "      <td>0.000000</td>\n",
       "    </tr>\n",
       "    <tr>\n",
       "      <th>25%</th>\n",
       "      <td>12848.750000</td>\n",
       "      <td>6.000000</td>\n",
       "      <td>6.000000</td>\n",
       "      <td>1.000000</td>\n",
       "      <td>8.000000</td>\n",
       "      <td>26440.371839</td>\n",
       "      <td>4490.492484</td>\n",
       "    </tr>\n",
       "    <tr>\n",
       "      <th>50%</th>\n",
       "      <td>25696.500000</td>\n",
       "      <td>8.000000</td>\n",
       "      <td>7.000000</td>\n",
       "      <td>1.000000</td>\n",
       "      <td>9.000000</td>\n",
       "      <td>50000.000000</td>\n",
       "      <td>29364.263691</td>\n",
       "    </tr>\n",
       "    <tr>\n",
       "      <th>75%</th>\n",
       "      <td>38544.250000</td>\n",
       "      <td>9.000000</td>\n",
       "      <td>8.000000</td>\n",
       "      <td>4.000000</td>\n",
       "      <td>10.000000</td>\n",
       "      <td>80000.000000</td>\n",
       "      <td>50403.225806</td>\n",
       "    </tr>\n",
       "    <tr>\n",
       "      <th>max</th>\n",
       "      <td>51392.000000</td>\n",
       "      <td>10.000000</td>\n",
       "      <td>10.000000</td>\n",
       "      <td>40.000000</td>\n",
       "      <td>10.000000</td>\n",
       "      <td>197000.000000</td>\n",
       "      <td>187500.000000</td>\n",
       "    </tr>\n",
       "  </tbody>\n",
       "</table>\n",
       "</div>"
      ],
      "text/plain": [
       "         Respondent  CareerSatisfaction  JobSatisfaction  HoursPerWeek  \\\n",
       "count  51392.000000        42695.000000     40376.000000  20600.000000   \n",
       "mean   25696.500000            7.300574         6.957078      3.952282   \n",
       "std    14835.736854            1.955444         2.167652      7.564722   \n",
       "min        1.000000            0.000000         0.000000      0.000000   \n",
       "25%    12848.750000            6.000000         6.000000      1.000000   \n",
       "50%    25696.500000            8.000000         7.000000      1.000000   \n",
       "75%    38544.250000            9.000000         8.000000      4.000000   \n",
       "max    51392.000000           10.000000        10.000000     40.000000   \n",
       "\n",
       "       StackOverflowSatisfaction         Salary  ExpectedSalary  \n",
       "count               36592.000000   12891.000000     2566.000000  \n",
       "mean                    8.429875   56298.480641    33142.220468  \n",
       "std                     1.390635   39880.905277    30162.988829  \n",
       "min                     0.000000       0.000000        0.000000  \n",
       "25%                     8.000000   26440.371839     4490.492484  \n",
       "50%                     9.000000   50000.000000    29364.263691  \n",
       "75%                    10.000000   80000.000000    50403.225806  \n",
       "max                    10.000000  197000.000000   187500.000000  "
      ]
     },
     "execution_count": 7,
     "metadata": {},
     "output_type": "execute_result"
    }
   ],
   "source": [
    "df.describe()"
   ]
  },
  {
   "cell_type": "markdown",
   "id": "bb303670",
   "metadata": {},
   "source": [
    "### Question 1: Which countries utilized Stackoverflow the most?"
   ]
  },
  {
   "cell_type": "markdown",
   "id": "478a9b40",
   "metadata": {},
   "source": [
    "#### Prepare Data"
   ]
  },
  {
   "cell_type": "code",
   "execution_count": 8,
   "id": "f21e8f0f",
   "metadata": {},
   "outputs": [
    {
     "data": {
      "text/plain": [
       "0"
      ]
     },
     "execution_count": 8,
     "metadata": {},
     "output_type": "execute_result"
    }
   ],
   "source": [
    "# check for null values\n",
    "df['Country'].isnull().sum()"
   ]
  },
  {
   "cell_type": "code",
   "execution_count": 9,
   "id": "d8f59c18",
   "metadata": {},
   "outputs": [
    {
     "data": {
      "text/plain": [
       "array(['United States', 'United Kingdom', 'Switzerland', 'New Zealand',\n",
       "       'Poland', 'Colombia', 'France', 'Canada', 'Germany', 'Greece',\n",
       "       'Brazil', 'Israel', 'Italy', 'Belgium', 'India', 'Chile',\n",
       "       'Croatia', 'Argentina', 'Netherlands', 'Denmark', 'Ukraine',\n",
       "       'Sri Lanka', 'Malaysia', 'Finland', 'Turkey', 'Spain', 'Austria',\n",
       "       'Mexico', 'Russian Federation', 'Bulgaria', 'Uruguay', 'Estonia',\n",
       "       'Iran', 'Bangladesh', 'Sweden', 'Lithuania', 'Paraguay', 'Romania',\n",
       "       'Costa Rica', 'Serbia', 'Slovenia', 'United Arab Emirates',\n",
       "       'Tunisia', 'Kenya', 'El Salvador', 'Norway', 'Dominican Republic',\n",
       "       'Belarus', 'Portugal', 'Czech Republic', 'Albania',\n",
       "       'I prefer not to say', 'South Africa', 'Uzbekistan', 'Moldavia',\n",
       "       'Ireland', 'Nepal', 'Pakistan', 'Slovak Republic', 'Hungary',\n",
       "       'Egypt', 'Australia', 'Japan', 'South Korea', 'Rwanda',\n",
       "       'Luxembourg', 'Kazakhstan', 'Bolivia', 'Vietnam', 'Somalia',\n",
       "       'Saudi Arabia', 'Ethiopia', 'Macedonia', 'Bosnia-Herzegovina',\n",
       "       'Algeria', 'Nicaragua', 'Cuba', 'Indonesia',\n",
       "       'Netherlands Antilles', 'Jamaica', 'Nigeria', 'Ecuador', 'Peru',\n",
       "       'Malta', 'Uganda', 'Morocco', 'Guatemala', 'Jordan', 'Cyprus',\n",
       "       'Georgia', 'Armenia', 'Virgin Islands (USA)', 'Lebanon', 'China',\n",
       "       'Bermuda', 'Latvia', 'Singapore', 'Thailand', 'American Samoa',\n",
       "       'Puerto Rico', 'Philippines', 'Hong Kong', 'Taiwan', 'Cape Verde',\n",
       "       'Trinidad and Tobago', 'Mongolia', 'Myanmar', 'North Korea',\n",
       "       'Afghanistan', 'Cambodia', 'Liechtenstein', 'Botswana',\n",
       "       'Madagascar', 'Mauritius', 'Iraq', 'Ghana', 'Aland Islands',\n",
       "       'Zambia', 'Iceland', 'Zimbabwe', 'Azerbaidjan', 'Kuwait',\n",
       "       'Venezuela', 'S. Georgia & S. Sandwich Isls.', 'Panama', 'Andorra',\n",
       "       'Cayman Islands', 'Bahamas', 'Honduras', 'Sudan', 'Syria',\n",
       "       'Gibraltar', 'Virgin Islands (British)', 'Cameroon', 'Tanzania',\n",
       "       'Mozambique', 'Qatar', 'Libya', 'Reunion (French)',\n",
       "       'Vatican City State', 'Oman', 'Angola', 'Montenegro', 'Haiti',\n",
       "       'New Caledonia (French)', 'Bahrain', 'Bouvet Island', 'Togo',\n",
       "       'Namibia', 'Guyana', 'Lesotho', 'Antarctica', 'Burkina Faso',\n",
       "       'Anguilla', 'Fiji', 'Bhutan', 'Malawi', 'Laos', 'Gabon', 'Senegal',\n",
       "       'Kyrgyzstan', 'Tadjikistan', 'Brunei Darussalam', 'Zaire',\n",
       "       \"Ivory Coast (Cote D'Ivoire)\", 'Saint Lucia', 'Monaco',\n",
       "       'U.S. Minor Outlying Islands', 'Polynesia (French)',\n",
       "       'French Guyana', 'Pitcairn Island', 'Seychelles', 'Guinea',\n",
       "       'Aruba', 'Belize', 'Benin', 'Swaziland', 'Barbados', 'Eritrea',\n",
       "       'Niger', 'Suriname', 'Guam', 'Antigua and Barbuda', 'Djibouti',\n",
       "       'Mali', 'British Indian Ocean Territory',\n",
       "       'Northern Mariana Islands', 'Saint Vincent & Grenadines',\n",
       "       'Martinique (French)', 'Burundi', 'Cook Islands', 'Yemen',\n",
       "       'Turkmenistan', 'Macau', 'Chad', 'Falkland Islands', 'Montserrat',\n",
       "       'Christmas Island', 'Heard and McDonald Islands', 'Comoros',\n",
       "       'Saint Helena'], dtype=object)"
      ]
     },
     "execution_count": 9,
     "metadata": {},
     "output_type": "execute_result"
    }
   ],
   "source": [
    "# display values in gender column\n",
    "df.Country.unique()"
   ]
  },
  {
   "cell_type": "markdown",
   "id": "736c6e64",
   "metadata": {},
   "source": [
    "#### Data Modeling"
   ]
  },
  {
   "cell_type": "code",
   "execution_count": 34,
   "id": "2d744dfb",
   "metadata": {},
   "outputs": [],
   "source": [
    "# display the top 10 countries\n",
    "plot_country = df['Country'].value_counts()[0:10].sort_values(ascending=False)"
   ]
  },
  {
   "cell_type": "markdown",
   "id": "78fc9a47",
   "metadata": {},
   "source": [
    "#### Evaluate the Results"
   ]
  },
  {
   "cell_type": "code",
   "execution_count": 35,
   "id": "7cef3ee4",
   "metadata": {},
   "outputs": [
    {
     "data": {
      "text/plain": [
       "Text(0.5, 0, 'Country')"
      ]
     },
     "execution_count": 35,
     "metadata": {},
     "output_type": "execute_result"
    },
    {
     "data": {
      "image/png": "[encoded data removed]",
      "text/plain": [
       "<Figure size 432x288 with 1 Axes>"
      ]
     },
     "metadata": {
      "needs_background": "light"
     },
     "output_type": "display_data"
    }
   ],
   "source": [
    "plot_country.plot(kind = 'bar', color = 'blue')\n",
    "df['Country'].value_counts()[0:10].sort_values(ascending=False).plot(kind = 'bar', color = 'blue')\n",
    "plt.ylabel('Total')\n",
    "plt.xticks(rotation=70) \n",
    "plt.title('Top 10 Countries that Use Stackoverflow', size=15)\n",
    "plt.xlabel('Country')"
   ]
  },
  {
   "cell_type": "markdown",
   "id": "baf40278",
   "metadata": {},
   "source": [
    "### Question 2: Stackoverflow is most used by which education level?"
   ]
  },
  {
   "cell_type": "markdown",
   "id": "2a9226cd",
   "metadata": {},
   "source": [
    "#### Prepare Data"
   ]
  },
  {
   "cell_type": "code",
   "execution_count": 13,
   "id": "34a17c07",
   "metadata": {},
   "outputs": [
    {
     "data": {
      "text/plain": [
       "16454"
      ]
     },
     "execution_count": 13,
     "metadata": {},
     "output_type": "execute_result"
    }
   ],
   "source": [
    "# check for null values\n",
    "df['HighestEducationParents'].isnull().sum()"
   ]
  },
  {
   "cell_type": "code",
   "execution_count": 14,
   "id": "62bc46a6",
   "metadata": {},
   "outputs": [
    {
     "data": {
      "text/plain": [
       "array(['High school', \"A master's degree\", 'A professional degree',\n",
       "       'A doctoral degree', nan, \"A bachelor's degree\",\n",
       "       \"Some college/university study, no bachelor's degree\",\n",
       "       'I prefer not to answer', 'Primary/elementary school',\n",
       "       \"I don't know/not sure\", 'No education'], dtype=object)"
      ]
     },
     "execution_count": 14,
     "metadata": {},
     "output_type": "execute_result"
    }
   ],
   "source": [
    "# display values in HighestEducationParents column\n",
    "df.HighestEducationParents.unique()"
   ]
  },
  {
   "cell_type": "code",
   "execution_count": 15,
   "id": "25a6e19d",
   "metadata": {},
   "outputs": [],
   "source": [
    "#Drop the row if it has NaN \n",
    "new_df1 = df.dropna(axis=0, subset=[\"HighestEducationParents\"])"
   ]
  },
  {
   "cell_type": "code",
   "execution_count": 16,
   "id": "ffd2621c",
   "metadata": {},
   "outputs": [
    {
     "data": {
      "text/plain": [
       "0"
      ]
     },
     "execution_count": 16,
     "metadata": {},
     "output_type": "execute_result"
    }
   ],
   "source": [
    "# check again for null values\n",
    "new_df1['HighestEducationParents'].isnull().sum()"
   ]
  },
  {
   "cell_type": "code",
   "execution_count": 17,
   "id": "8102dfe9",
   "metadata": {},
   "outputs": [],
   "source": [
    "# delete unnecessary values in HighestEducationParents\n",
    "values = [\"I don't know/not sure\", 'I prefer not to answer']\n",
    "\n",
    "#drop rows that contain any value in the list\n",
    "df2 = new_df1[new_df1.HighestEducationParents.isin(values) == False]"
   ]
  },
  {
   "cell_type": "code",
   "execution_count": 18,
   "id": "1641cb1d",
   "metadata": {},
   "outputs": [
    {
     "data": {
      "text/plain": [
       "array(['High school', \"A master's degree\", 'A professional degree',\n",
       "       'A doctoral degree', \"A bachelor's degree\",\n",
       "       \"Some college/university study, no bachelor's degree\",\n",
       "       'Primary/elementary school', 'No education'], dtype=object)"
      ]
     },
     "execution_count": 18,
     "metadata": {},
     "output_type": "execute_result"
    }
   ],
   "source": [
    "# display values in HighestEducationParents column\n",
    "df2.HighestEducationParents.unique()"
   ]
  },
  {
   "cell_type": "markdown",
   "id": "5d8d74e8",
   "metadata": {},
   "source": [
    "#### Data Modeling"
   ]
  },
  {
   "cell_type": "code",
   "execution_count": 30,
   "id": "aac95346",
   "metadata": {},
   "outputs": [],
   "source": [
    "plot_education = df2['HighestEducationParents'].value_counts()[0:10].sort_values(ascending=False)"
   ]
  },
  {
   "cell_type": "markdown",
   "id": "d9cb607a",
   "metadata": {},
   "source": [
    "#### Evaluate the Results"
   ]
  },
  {
   "cell_type": "code",
   "execution_count": 31,
   "id": "a24774c4",
   "metadata": {},
   "outputs": [
    {
     "data": {
      "text/plain": [
       "Text(0.5, 0, 'Total Number of Users')"
      ]
     },
     "execution_count": 31,
     "metadata": {},
     "output_type": "execute_result"
    },
    {
     "data": {
      "image/png": "[encoded data removed]",
      "text/plain": [
       "<Figure size 432x288 with 1 Axes>"
      ]
     },
     "metadata": {
      "needs_background": "light"
     },
     "output_type": "display_data"
    }
   ],
   "source": [
    "plot_education.plot(kind = 'barh', color = 'blue')\n",
    "df2['HighestEducationParents'].value_counts()[0:10].sort_values(ascending=False).plot(kind = 'barh', color = 'blue')\n",
    "plt.ylabel('Education Level')\n",
    "plt.title('StackOverFlow Users Level of Education', size=15)\n",
    "plt.xlabel('Total Number of Users')"
   ]
  },
  {
   "cell_type": "code",
   "execution_count": 61,
   "id": "33af5a0c",
   "metadata": {},
   "outputs": [],
   "source": [
    "# the salary that people make\n",
    "salary_df = df2.groupby(['HighestEducationParents'])['Salary'].mean().sort_values(ascending = False)"
   ]
  },
  {
   "cell_type": "code",
   "execution_count": 66,
   "id": "239618ce",
   "metadata": {},
   "outputs": [
    {
     "data": {
      "image/png": "[encoded data removed]",
      "text/plain": [
       "<Figure size 288x432 with 1 Axes>"
      ]
     },
     "metadata": {
      "needs_background": "light"
     },
     "output_type": "display_data"
    }
   ],
   "source": [
    "plt.figure(figsize=[4,6])\n",
    "salary_df.plot(y=salary_df.index, x=salary_df, color = 'blue')\n",
    "plt.xticks(rotation=70) \n",
    "plt.title(\"Proportion of Salary Made by Each Education Level\");"
   ]
  },
  {
   "cell_type": "markdown",
   "id": "e36b5bb5",
   "metadata": {},
   "source": [
    "### Question 3: How many people agree and disagree on make money from StackOverFlow?"
   ]
  },
  {
   "cell_type": "markdown",
   "id": "1361e492",
   "metadata": {},
   "source": [
    "#### Prepare Data"
   ]
  },
  {
   "cell_type": "code",
   "execution_count": 21,
   "id": "d78d429f",
   "metadata": {},
   "outputs": [
    {
     "data": {
      "text/plain": [
       "20330"
      ]
     },
     "execution_count": 21,
     "metadata": {},
     "output_type": "execute_result"
    }
   ],
   "source": [
    "# check for null values\n",
    "df['StackOverflowMakeMoney'].isnull().sum()"
   ]
  },
  {
   "cell_type": "code",
   "execution_count": 22,
   "id": "6e96fa6a",
   "metadata": {},
   "outputs": [
    {
     "data": {
      "text/plain": [
       "array(['Strongly disagree', 'Disagree', nan, 'Somewhat agree', 'Agree',\n",
       "       'Strongly agree'], dtype=object)"
      ]
     },
     "execution_count": 22,
     "metadata": {},
     "output_type": "execute_result"
    }
   ],
   "source": [
    "# display values in StackOverflowMakeMoney column\n",
    "df.StackOverflowMakeMoney.unique()"
   ]
  },
  {
   "cell_type": "code",
   "execution_count": 23,
   "id": "d6665cd9",
   "metadata": {},
   "outputs": [],
   "source": [
    "#Drop the row if it has NaN \n",
    "df_money = df.dropna(axis=0, subset=[\"StackOverflowMakeMoney\"])"
   ]
  },
  {
   "cell_type": "code",
   "execution_count": 24,
   "id": "3ea7b17c",
   "metadata": {},
   "outputs": [
    {
     "data": {
      "text/plain": [
       "0"
      ]
     },
     "execution_count": 24,
     "metadata": {},
     "output_type": "execute_result"
    }
   ],
   "source": [
    "# check again for null values\n",
    "df_money['StackOverflowMakeMoney'].isnull().sum()"
   ]
  },
  {
   "cell_type": "code",
   "execution_count": 25,
   "id": "1b917d76",
   "metadata": {},
   "outputs": [
    {
     "data": {
      "text/plain": [
       "array(['Strongly disagree', 'Disagree', 'Somewhat agree', 'Agree',\n",
       "       'Strongly agree'], dtype=object)"
      ]
     },
     "execution_count": 25,
     "metadata": {},
     "output_type": "execute_result"
    }
   ],
   "source": [
    "# display values in StackOverflowMakeMoney column\n",
    "df_money.StackOverflowMakeMoney.unique()"
   ]
  },
  {
   "cell_type": "markdown",
   "id": "010add5d",
   "metadata": {},
   "source": [
    "#### Data Modeling"
   ]
  },
  {
   "cell_type": "code",
   "execution_count": 32,
   "id": "33437bbe",
   "metadata": {},
   "outputs": [],
   "source": [
    "plot_money = df_money['StackOverflowMakeMoney'].value_counts()[0:5].sort_values(ascending=False)"
   ]
  },
  {
   "cell_type": "markdown",
   "id": "59f9a3fc",
   "metadata": {},
   "source": [
    "#### Evaluate the Results"
   ]
  },
  {
   "cell_type": "code",
   "execution_count": 33,
   "id": "dcb0b4ed",
   "metadata": {},
   "outputs": [
    {
     "data": {
      "text/plain": [
       "Text(0.5, 0, 'Number of People')"
      ]
     },
     "execution_count": 33,
     "metadata": {},
     "output_type": "execute_result"
    },
    {
     "data": {
      "image/png": "[encoded data removed]",
      "text/plain": [
       "<Figure size 432x288 with 1 Axes>"
      ]
     },
     "metadata": {
      "needs_background": "light"
     },
     "output_type": "display_data"
    }
   ],
   "source": [
    "plot_money.plot(kind = 'barh', color = 'blue')\n",
    "df2['StackOverflowMakeMoney'].value_counts()[0:5].sort_values(ascending=False).plot(kind = 'barh', color = 'blue')\n",
    "plt.ylabel('Agreement Level')\n",
    "plt.title('Making Money From StackOverFlow', size=15)\n",
    "plt.xlabel('Number of People')"
   ]
  },
  {
   "cell_type": "code",
   "execution_count": 38,
   "id": "b7e6d02a",
   "metadata": {},
   "outputs": [
    {
     "name": "stderr",
     "output_type": "stream",
     "text": [
      "<ipython-input-38-fd0116a9e8f4>:2: SettingWithCopyWarning: \n",
      "A value is trying to be set on a copy of a slice from a DataFrame.\n",
      "Try using .loc[row_indexer,col_indexer] = value instead\n",
      "\n",
      "See the caveats in the documentation: https://pandas.pydata.org/pandas-docs/stable/user_guide/indexing.html#returning-a-view-versus-a-copy\n",
      "  df_money['useformoney'] =  df_money['StackOverflowMakeMoney'].isin (['Strongly agree',\"Agree\",\"Somewhat agree\"])\n"
     ]
    }
   ],
   "source": [
    "# add a new column to indicate whcih country use stackoverflow more to make money\n",
    "df_money['useformoney'] =  df_money['StackOverflowMakeMoney'].isin (['Strongly agree',\"Agree\",\"Somewhat agree\"])"
   ]
  },
  {
   "cell_type": "code",
   "execution_count": 39,
   "id": "885f8423",
   "metadata": {},
   "outputs": [],
   "source": [
    "# the proporition of people use stackoverflow for money by country\n",
    "country_df = df_money.groupby(['Country'])['useformoney'].mean().sort_values(ascending = False)"
   ]
  },
  {
   "cell_type": "code",
   "execution_count": 65,
   "id": "9960d695",
   "metadata": {},
   "outputs": [
    {
     "data": {
      "image/png": "[encoded data removed]",
      "text/plain": [
       "<Figure size 288x432 with 1 Axes>"
      ]
     },
     "metadata": {
      "needs_background": "light"
     },
     "output_type": "display_data"
    }
   ],
   "source": [
    "plt.figure(figsize=[4,6])\n",
    "country_df.plot(y=country_df.index, x=country_df, color = 'blue')\n",
    "plt.xticks(rotation=70) \n",
    "plt.title(\"Proportion Using Stackoverflow for money vs. Country\");"
   ]
  },
  {
   "cell_type": "markdown",
   "id": "13cf4df8",
   "metadata": {},
   "source": [
    "## Conclusion:\n",
    "<ul>\n",
    "    <li>People in United States used Stackoverflow more than other countries</li>\n",
    "    <li>There are only few people use stackoverflow in Spain, Russian Federation, and Australia</li>\n",
    "    <li>people with bachelor's degree use stackoverflow more than others</li>\n",
    "    <li>People with no education don't use stackoverflow that much</li>\n",
    "    <li>Stackoverflow is also used by primary and elementary school students</li>\n",
    "    <li>Most people don't make money from stackoverflow</li>\n",
    "    <li>There are only few people make money from stackoverflow</li>\n",
    "    <li>People in Unaited Satates make more salary</li>\n",
    "    <li>People in United Satates use stackoverflow for money more than other countries</li>\n",
    "    <li>People with a doctoral degrees make more money from Stack OverFlow</li>\n",
    "</ul>"
   ]
  }
 ],
 "metadata": {
  "kernelspec": {
   "display_name": "Python 3",
   "language": "python",
   "name": "python3"
  },
  "language_info": {
   "codemirror_mode": {
    "name": "ipython",
    "version": 3
   },
   "file_extension": ".py",
   "mimetype": "text/x-python",
   "name": "python",
   "nbconvert_exporter": "python",
   "pygments_lexer": "ipython3",
   "version": "3.8.8"
  }
 },
 "nbformat": 4,
 "nbformat_minor": 5
}
